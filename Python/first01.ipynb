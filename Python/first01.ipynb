{
 "cells": [
  {
   "cell_type": "code",
   "execution_count": 28,
   "source": [
    "#inverse number \r\n",
    "a=a1 =int(input(\"Enter the number you want to inverse = \"))\r\n",
    "f=0\r\n",
    "while(a>0):\r\n",
    "  b = a % 10\r\n",
    "  f=f*10+b\r\n",
    "  a=int(a//10)\r\n",
    "print(\"inverse of\",a1,\"is >>>>\",int(f))"
   ],
   "outputs": [
    {
     "output_type": "stream",
     "name": "stdout",
     "text": [
      "inverse of 455 is >>>> 554\n"
     ]
    }
   ],
   "metadata": {}
  },
  {
   "cell_type": "code",
   "execution_count": 29,
   "source": [
    "#calculator \r\n",
    "a = float(input(\"Please enter the first variable A = \"))\r\n",
    "b = float(input(\"Please enter the second variable B = \"))\r\n",
    "a1 = int(input(\r\n",
    "        \"tap 1 if you want '+' =\\ntap 2 if you want '-' =\\ntap 3 if you want '*'=\\ntap 4 if you want '/'= \"\r\n",
    "    ))\r\n",
    "if(a1==1):\r\n",
    "  a = int(a+b)\r\n",
    "  print(a)\r\n",
    "elif(a1==2):\r\n",
    "  a=int(a-b)\r\n",
    "  print(a)\r\n",
    "elif(a1==3):\r\n",
    "  a=a*b\r\n",
    "  print(a)\r\n",
    "elif(a1==4):\r\n",
    "  if(b!=0):\r\n",
    "      a=a/b\r\n",
    "      print(a)\r\n",
    "  else:\r\n",
    "     print(\"you can't divide on zero !!!!!! \")\r\n",
    "else:\r\n",
    "  print(\"the number is not 1.2.3.4\")"
   ],
   "outputs": [
    {
     "output_type": "stream",
     "name": "stdout",
     "text": [
      "90\n"
     ]
    }
   ],
   "metadata": {}
  },
  {
   "cell_type": "code",
   "execution_count": null,
   "source": [
    "# sum of number\r\n",
    "a=a1 =int(input(\"Please enter the number do you want to sum = \"))\r\n",
    "f=0\r\n",
    "while(a>0):\r\n",
    "  b = a % 10\r\n",
    "  f=f+b\r\n",
    "  a=int(a//10)\r\n",
    "print(\"The sum of\",a1,\"is>>>\",f)"
   ],
   "outputs": [],
   "metadata": {}
  },
  {
   "cell_type": "code",
   "execution_count": 28,
   "source": [
    "# factorial of num\r\n",
    "x =abs(int(input(\"Enter the number = \")))\r\n",
    "a=1\r\n",
    "for i in range(0,x):\r\n",
    "  a=a*(x-i)\r\n",
    "print(\"the factorial of\",x,\"! is >>>\",a)"
   ],
   "outputs": [
    {
     "output_type": "stream",
     "name": "stdout",
     "text": [
      "the factoryar of 5 ! is >>> 120\n"
     ]
    }
   ],
   "metadata": {}
  },
  {
   "cell_type": "code",
   "execution_count": 3,
   "source": [
    "# factorial by method\r\n",
    "def facto(a,y):\r\n",
    "    if(a==1):\r\n",
    "        return print(\"the factorial of\",a1,\"! is >>>\",y)\r\n",
    "    else:\r\n",
    "        y=y*a\r\n",
    "        return facto(a-1,y)\r\n",
    "y=1\r\n",
    "a=a1=abs(int(input(\"Enter the number = \")))\r\n",
    "facto(a,y)"
   ],
   "outputs": [
    {
     "output_type": "stream",
     "name": "stdout",
     "text": [
      "the factorial of 45 ! is >>> 119622220865480194561963161495657715064383733760000000000\n"
     ]
    }
   ],
   "metadata": {}
  },
  {
   "cell_type": "code",
   "execution_count": 27,
   "source": [
    "# number Fibonacci\r\n",
    "a =int(input(\"Enter the number = \"))\r\n",
    "n=0\r\n",
    "n1=1\r\n",
    "c=a\r\n",
    "for i in range(1,abs(a)):\r\n",
    "  c=n+n1\r\n",
    "  n=n1\r\n",
    "  n1=c\r\n",
    "if(a<0):\r\n",
    "  c=abs(c)*pow(-1,a+1)\r\n",
    "print(\"Fibonacci of\",a,\"is = \",int(c))"
   ],
   "outputs": [
    {
     "output_type": "stream",
     "name": "stdout",
     "text": [
      "Fibonacci of 455 is =  54940336057423256938071768642271418422378762132537180494862787975116607001677217386408086574545\n"
     ]
    }
   ],
   "metadata": {}
  },
  {
   "cell_type": "code",
   "execution_count": 19,
   "source": [
    "# number Fibonacci \r\n",
    "def Fob(a):\r\n",
    "    if(a==0):\r\n",
    "        return 0\r\n",
    "    elif(a==1):\r\n",
    "        return 1\r\n",
    "    elif(f[a]>0):\r\n",
    "        return f[a]\r\n",
    "    f[a]=Fob(a-1)+Fob(a-2)\r\n",
    "    return f[a]\r\n",
    "a1 =int(input(\"Enter the number = \"))\r\n",
    "a=abs(a1)\r\n",
    "f=[0]*(a+1)\r\n",
    "s=Fob(a)\r\n",
    "if(a1<0):\r\n",
    "    s=Fob(a)*pow(-1,a1+1)\r\n",
    "else:\r\n",
    "    s=Fob(a)\r\n",
    "print(\"Fibonacci of\",a1,\"is = \",int(s))"
   ],
   "outputs": [
    {
     "output_type": "stream",
     "name": "stdout",
     "text": [
      "Fibonacci of -4 is =  -3\n"
     ]
    }
   ],
   "metadata": {}
  },
  {
   "cell_type": "code",
   "execution_count": 21,
   "source": [
    "import math \r\n",
    "x=1    # input layer receives \r\n",
    "w=0.01  # weight \r\n",
    "yexp=0.95  # output expected \r\n",
    "dltmax=0.1\r\n",
    "yreal=0.3\r\n",
    "daty=0\r\n",
    "dd=0.05   # permissible error\r\n",
    "i=0   # Initial conditions\r\n",
    "dlty=abs((yexp-yreal)/yexp)\r\n",
    "print(dlty)\r\n",
    "while dlty > dltmax:\r\n",
    "  yreal=1/(1+math.exp(-x*w))\r\n",
    "  dlty=abs((yexp-yreal)/yexp)\r\n",
    "  dd=(1-yreal)*(yexp-yreal)*yreal\r\n",
    "  w=w+dd*x\r\n",
    "  i=i+1\r\n",
    "print(yreal)\r\n",
    "print(dlty)\r\n",
    "print(w)\r\n",
    "print(i)"
   ],
   "outputs": [
    {
     "output_type": "stream",
     "name": "stdout",
     "text": [
      "0.6842105263157894\n",
      "0.8562603646155912\n",
      "0.09867330040464081\n",
      "1.796108257404124\n",
      "50\n"
     ]
    }
   ],
   "metadata": {}
  },
  {
   "cell_type": "code",
   "execution_count": 26,
   "source": [
    "\r\n",
    "import math \r\n",
    "x=2   # input layer receives \r\n",
    "w12=0.2  # weight \r\n",
    "w23=0.1  # weight \r\n",
    "Y=0.3  # output expected \r\n",
    "dltmax=0.1\r\n",
    "i=0   # Initial conditions\r\n",
    "y1=x\r\n",
    "y2=0\r\n",
    "y3=0\r\n",
    "dd23=0 # permissible error\r\n",
    "dd12=0 # permissible error \r\n",
    "dlty=abs((Y-y3)/Y)\r\n",
    "while dlty > dltmax:\r\n",
    "  y2=1/(1+math.exp(-y1*w12))\r\n",
    "  y3=1/(1+math.exp(-y2*w23))\r\n",
    "  dlty=abs((Y-y3)/Y)\r\n",
    "  dd23=(1-y3)*(Y-y3)*y3\r\n",
    "  dd12=(1-y2)*(dd23*w23)*y2\r\n",
    "  w23=w23+dd23*y2\r\n",
    "  w12=w12+dd12*y1\r\n",
    "  i=i+1\r\n",
    "\r\n",
    "\r\n",
    "print(\"w12 = \",w12)\r\n",
    "print(\"w23 = \",w23)\r\n",
    "print(\"i = \",i)\r\n"
   ],
   "outputs": [
    {
     "output_type": "stream",
     "name": "stdout",
     "text": [
      "w12 =  0.5038093695474495\n",
      "w23 =  -0.9774810088320839\n",
      "i =  69\n"
     ]
    }
   ],
   "metadata": {}
  },
  {
   "cell_type": "code",
   "execution_count": null,
   "source": [
    "# o(n)  --- o(n2)  - --- o(n3) \r\n",
    "\r\n"
   ],
   "outputs": [],
   "metadata": {}
  }
 ],
 "metadata": {
  "orig_nbformat": 4,
  "language_info": {
   "name": "python",
   "version": "3.9.7",
   "mimetype": "text/x-python",
   "codemirror_mode": {
    "name": "ipython",
    "version": 3
   },
   "pygments_lexer": "ipython3",
   "nbconvert_exporter": "python",
   "file_extension": ".py"
  },
  "kernelspec": {
   "name": "python3",
   "display_name": "Python 3.9.7 64-bit (windows store)"
  },
  "interpreter": {
   "hash": "38d51dd8e8d25c2b4859ddf5fde4d8615b38902fd48d30a19bf46ddb81d406a6"
  }
 },
 "nbformat": 4,
 "nbformat_minor": 2
}